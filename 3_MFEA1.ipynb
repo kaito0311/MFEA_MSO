{
 "cells": [
  {
   "cell_type": "code",
   "execution_count": 1,
   "metadata": {},
   "outputs": [],
   "source": [
    "from MFEA_lib.model.mfea1 import MFEA1\n",
    "from MFEA_lib.model.sa import SA_LSA_MODEL\n",
    "from MFEA_lib.operators.Crossover import SBX_Crossover\n",
    "from MFEA_lib.operators.Mutation import Polynomial_Mutation\n",
    "from MFEA_lib.operators.Selection import ElitismSelection\n",
    "from MFEA_lib.tasks.Benchmark import CEC17_benchmark, GECCO20_benchmark_50tasks"
   ]
  },
  {
   "cell_type": "code",
   "execution_count": 2,
   "metadata": {},
   "outputs": [],
   "source": [
    "cec17_10tasks = CEC17_benchmark.get_10tasks_benchmark()"
   ]
  },
  {
   "cell_type": "code",
   "execution_count": 3,
   "metadata": {},
   "outputs": [],
   "source": [
    "import numpy as np "
   ]
  },
  {
   "cell_type": "code",
   "execution_count": 4,
   "metadata": {},
   "outputs": [
    {
     "name": "stdout",
     "output_type": "stream",
     "text": [
      "Epoch [1000/1000], [====================>] 100% ,func_val: [1.0291879631833417e-12, 2.4894631598321834e-13, 5.770773532677648e-18, 0.0, 1.7921294262515382e-10, 1.5295337973952883e-07, 1.161502893864963e-08, 0.0006363783177221194, 1.532107773982716e-14, 45.76809649342027]77088023202839]64]End\n"
     ]
    }
   ],
   "source": [
    "baseModel = MFEA1()\n",
    "baseModel.compile(\n",
    "    tasks= cec17_10tasks,\n",
    "    crossover= SBX_Crossover(nc = 2),\n",
    "    mutation= Polynomial_Mutation(nm = 5),\n",
    "    selection= ElitismSelection()\n",
    ")\n",
    "solve = baseModel.fit(\n",
    "    num_generations= 1000, \n",
    "    num_inds_each_task= (np.zeros(shape = len(cec17_10tasks), dtype= int) + 100).tolist(),\n",
    "    rmp = 0.3,\n",
    "    bound= [0, 1],\n",
    "    evaluate_initial_skillFactor= True, \n",
    "    log_oneline= True, num_epochs_printed= 10)"
   ]
  },
  {
   "cell_type": "code",
   "execution_count": 4,
   "metadata": {},
   "outputs": [
    {
     "name": "stdout",
     "output_type": "stream",
     "text": [
      "Epoch [996/100000], [====================>] 100% ,func_val: [3.846947922942865e-11, 2.4919060494360213e-12, 2.7114056169393503e-16, 0.0, 5.3098098091642064e-09, 4.639509931791963e-07, 5.358703560887079e-07, 0.0006363783322740346, 8.326672684688674e-14, 49.74792766814818]]]].74800532378538]]End\n"
     ]
    }
   ],
   "source": [
    "saModel = SA_LSA_MODEL()\n",
    "saModel.compile(\n",
    "    tasks= cec17_10tasks, \n",
    "    crossover= SBX_Crossover(nc= 2), \n",
    "    mutation= Polynomial_Mutation(nm = 5), \n",
    "    selection= ElitismSelection() \n",
    ")\n",
    "solve = saModel.fit(\n",
    "    max_inds_each_task= list(np.zeros(shape= (len(cec17_10tasks),), dtype= int) + 100),\n",
    "    min_inds_each_task= list(np.zeros(shape= (len(cec17_10tasks),), dtype= int) + 20),\n",
    "    max_eval_each_task= list(np.zeros(shape= (len(cec17_10tasks,)), dtype= int) + 1000 * 100 ),\n",
    "    log_oneline= True,\n",
    "    num_epochs_printed= 1\n",
    ")"
   ]
  }
 ],
 "metadata": {
  "interpreter": {
   "hash": "8da01e5a71448ea74f54d88afa8911010d1d12e23bc7e103d40d5def4a09152c"
  },
  "kernelspec": {
   "display_name": "Python 3.9.5 64-bit",
   "language": "python",
   "name": "python3"
  },
  "language_info": {
   "codemirror_mode": {
    "name": "ipython",
    "version": 3
   },
   "file_extension": ".py",
   "mimetype": "text/x-python",
   "name": "python",
   "nbconvert_exporter": "python",
   "pygments_lexer": "ipython3",
   "version": "3.9.5"
  },
  "orig_nbformat": 4
 },
 "nbformat": 4,
 "nbformat_minor": 2
}
