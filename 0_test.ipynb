{
 "cells": [
  {
   "cell_type": "markdown",
   "metadata": {},
   "source": [
    "### Numpy"
   ]
  },
  {
   "cell_type": "code",
   "execution_count": 7,
   "metadata": {},
   "outputs": [],
   "source": [
    "import numpy as np"
   ]
  },
  {
   "cell_type": "code",
   "execution_count": 8,
   "metadata": {},
   "outputs": [
    {
     "data": {
      "text/plain": [
       "6"
      ]
     },
     "execution_count": 8,
     "metadata": {},
     "output_type": "execute_result"
    }
   ],
   "source": [
    "np.random.randint(0, 10 )"
   ]
  },
  {
   "cell_type": "markdown",
   "metadata": {},
   "source": [
    "### tasks"
   ]
  },
  {
   "cell_type": "code",
   "execution_count": 10,
   "metadata": {},
   "outputs": [],
   "source": [
    "from MFEA_lib.tasks import Benchmark"
   ]
  },
  {
   "cell_type": "code",
   "execution_count": 11,
   "metadata": {},
   "outputs": [],
   "source": [
    "cec17 = Benchmark.CEC17_benchmark.get_10tasks_benchmark()"
   ]
  },
  {
   "cell_type": "code",
   "execution_count": 12,
   "metadata": {},
   "outputs": [
    {
     "name": "stdout",
     "output_type": "stream",
     "text": [
      "Sphere: [-100, 100]^50\n",
      "Sphere: [-100, 100]^50\n",
      "Sphere: [-100, 100]^50\n",
      "Weierstrass: [-0.5, 0.5]^25\n",
      "Rosenbrock: [-50, 50]^50\n",
      "Ackley: [-50, 50]^50\n",
      "Weierstrass: [-0.5, 0.5]^50\n",
      "Schwefel: [-500, 500]^50\n",
      "Griewank: [-100, 100]^50\n",
      "Rastrigin: [-50, 50]^50\n"
     ]
    }
   ],
   "source": [
    "for t in cec17:\n",
    "    print(t.name)"
   ]
  },
  {
   "cell_type": "code",
   "execution_count": 13,
   "metadata": {},
   "outputs": [
    {
     "name": "stdout",
     "output_type": "stream",
     "text": [
      "[0. 0.]\n",
      "[80. 80.]\n",
      "[-80. -80.]\n",
      "[-0.4 -0.4]\n",
      "[0. 0.]\n",
      "[40. 40.]\n",
      "[-0.4 -0.4]\n",
      "[420.9687 420.9687]\n",
      "[-80.  80.]\n",
      "[ 40. -40.]\n"
     ]
    }
   ],
   "source": [
    "for t in cec17:\n",
    "    print(t.global_optimal[[0, -1]])"
   ]
  },
  {
   "cell_type": "code",
   "execution_count": 14,
   "metadata": {},
   "outputs": [
    {
     "name": "stdout",
     "output_type": "stream",
     "text": [
      "[0.5 0.5]\n",
      "[0.9 0.9]\n",
      "[0.1 0.1]\n",
      "[0.1 0.1]\n",
      "[0.5 0.5]\n",
      "[0.9 0.9]\n",
      "[0.1 0.1]\n",
      "[0.9209687 0.9209687]\n",
      "[0.1 0.9]\n",
      "[0.9 0.1]\n"
     ]
    }
   ],
   "source": [
    "print(cec17[0].encode(cec17[0].global_optimal)[[0, -1]])\n",
    "print(cec17[1].encode(cec17[1].global_optimal)[[0, -1]])\n",
    "print(cec17[2].encode(cec17[2].global_optimal)[[0, -1]])\n",
    "print(cec17[3].encode(cec17[3].global_optimal)[[0, -1]])\n",
    "print(cec17[4].encode(cec17[4].global_optimal)[[0, -1]])\n",
    "print(cec17[5].encode(cec17[5].global_optimal)[[0, -1]])\n",
    "print(cec17[6].encode(cec17[6].global_optimal)[[0, -1]])\n",
    "print(cec17[7].encode(cec17[7].global_optimal)[[0, -1]])\n",
    "print(cec17[8].encode(cec17[8].global_optimal)[[0, -1]])\n",
    "print(cec17[9].encode(cec17[9].global_optimal)[[0, -1]])"
   ]
  },
  {
   "cell_type": "markdown",
   "metadata": {},
   "source": [
    "shift\n",
    "\n",
    "encode: đầu vào là không gian đã dịch chuyển\n",
    "\n",
    "> R' -bound-> bounded_space -encode-> [0, 1] \n",
    "\n",
    "decode: đầu vào là không gian mã hóa [0, 1] \n",
    "\n",
    ">[0, 1] -decode-> bounded_space -unbound-> R' -inv_shift-> R"
   ]
  },
  {
   "cell_type": "code",
   "execution_count": 15,
   "metadata": {},
   "outputs": [],
   "source": [
    "cec17_2 = Benchmark.CEC17_benchmark.get_10tasks_benchmark()"
   ]
  },
  {
   "cell_type": "code",
   "execution_count": 16,
   "metadata": {},
   "outputs": [
    {
     "data": {
      "text/plain": [
       "<MFEA_lib.tasks.function.Sphere at 0x7f49e4c43b50>"
      ]
     },
     "execution_count": 16,
     "metadata": {},
     "output_type": "execute_result"
    }
   ],
   "source": [
    "cec17[0]"
   ]
  },
  {
   "cell_type": "code",
   "execution_count": 17,
   "metadata": {},
   "outputs": [
    {
     "data": {
      "text/plain": [
       "<MFEA_lib.tasks.function.Sphere at 0x7f49e497a550>"
      ]
     },
     "execution_count": 17,
     "metadata": {},
     "output_type": "execute_result"
    }
   ],
   "source": [
    "cec17_2[0]"
   ]
  },
  {
   "cell_type": "code",
   "execution_count": 18,
   "metadata": {},
   "outputs": [
    {
     "data": {
      "text/plain": [
       "True"
      ]
     },
     "execution_count": 18,
     "metadata": {},
     "output_type": "execute_result"
    }
   ],
   "source": [
    "cec17[0] == cec17_2[0]"
   ]
  },
  {
   "cell_type": "markdown",
   "metadata": {},
   "source": [
    "### EA"
   ]
  },
  {
   "cell_type": "code",
   "execution_count": 19,
   "metadata": {},
   "outputs": [],
   "source": [
    "from MFEA_lib.EA import *\n"
   ]
  },
  {
   "cell_type": "markdown",
   "metadata": {},
   "source": [
    "#### Population"
   ]
  },
  {
   "cell_type": "code",
   "execution_count": 22,
   "metadata": {},
   "outputs": [
    {
     "data": {
      "text/plain": [
       "<MFEA_lib.EA.Population at 0x7f49e4978a00>"
      ]
     },
     "execution_count": 22,
     "metadata": {},
     "output_type": "execute_result"
    }
   ],
   "source": [
    "popTest = Population(\n",
    "    nb_inds_tasks= [2] * 10,\n",
    "    dim = 50,\n",
    "    list_tasks= cec17\n",
    ")\n",
    "popTest"
   ]
  },
  {
   "cell_type": "code",
   "execution_count": 23,
   "metadata": {},
   "outputs": [
    {
     "data": {
      "text/plain": [
       "<MFEA_lib.EA.Population at 0x7f49e49903a0>"
      ]
     },
     "execution_count": 23,
     "metadata": {},
     "output_type": "execute_result"
    }
   ],
   "source": [
    "popTest2 = Population(\n",
    "    nb_inds_tasks= [2] * 10,\n",
    "    dim = 50,\n",
    "    list_tasks= cec17\n",
    ")\n",
    "popTest2"
   ]
  },
  {
   "cell_type": "code",
   "execution_count": 24,
   "metadata": {},
   "outputs": [
    {
     "data": {
      "text/plain": [
       "<MFEA_lib.EA.Population at 0x7f49e4990ee0>"
      ]
     },
     "execution_count": 24,
     "metadata": {},
     "output_type": "execute_result"
    }
   ],
   "source": [
    "c = popTest + popTest2\n",
    "c"
   ]
  },
  {
   "cell_type": "code",
   "execution_count": 25,
   "metadata": {},
   "outputs": [
    {
     "name": "stdout",
     "output_type": "stream",
     "text": [
      "20\n",
      "20\n",
      "40\n"
     ]
    }
   ],
   "source": [
    "print(len(popTest))\n",
    "print(len(popTest2))\n",
    "print(len(c))"
   ]
  },
  {
   "cell_type": "code",
   "execution_count": 26,
   "metadata": {},
   "outputs": [
    {
     "data": {
      "text/plain": [
       "[Genes: [0.46164388 0.4233285  0.15626752 0.10088391 0.34386453 0.883532\n",
       "  0.91643783 0.98939309 0.67612092 0.86075783 0.69916641 0.30496891\n",
       "  0.90777943 0.04126623 0.08865193 0.14026841 0.84213221 0.10838536\n",
       "  0.0162905  0.97365559 0.84315394 0.40077341 0.40248284 0.29409224\n",
       "  0.52089961 0.10015175 0.54370364 0.33961805 0.80301407 0.46437637\n",
       "  0.76998749 0.54764848 0.47067857 0.42219737 0.13279903 0.58361346\n",
       "  0.45423458 0.13099108 0.16581432 0.04894305 0.79829997 0.80810743\n",
       "  0.46785061 0.3088698  0.0376774  0.45691843 0.47960675 0.56820026\n",
       "  0.3744309  0.53690643]\n",
       " Skill_factor: 0,\n",
       " Genes: [0.49649856 0.94896016 0.10053351 0.8745096  0.77695419 0.71690982\n",
       "  0.87229593 0.97274713 0.61008705 0.21876374 0.81221339 0.82854541\n",
       "  0.76608651 0.87496613 0.51419978 0.62629969 0.56354888 0.20626146\n",
       "  0.6806801  0.51204525 0.22777653 0.7505083  0.908414   0.57727797\n",
       "  0.64500728 0.2765501  0.67606173 0.14076511 0.22838142 0.593462\n",
       "  0.93685208 0.18751955 0.08293849 0.31001825 0.21065664 0.66906897\n",
       "  0.82405974 0.29764668 0.98872695 0.12701416 0.76260309 0.20529331\n",
       "  0.73833654 0.86029437 0.23206884 0.60565633 0.2253449  0.49888485\n",
       "  0.22051961 0.65631894]\n",
       " Skill_factor: 0]"
      ]
     },
     "execution_count": 26,
     "metadata": {},
     "output_type": "execute_result"
    }
   ],
   "source": [
    "popTest[0][:]"
   ]
  },
  {
   "cell_type": "code",
   "execution_count": 27,
   "metadata": {},
   "outputs": [
    {
     "data": {
      "text/plain": [
       "[Genes: [0.88304075 0.72118891 0.0201793  0.33457004 0.5157941  0.50147531\n",
       "  0.57107768 0.5250045  0.34233346 0.72414905 0.32732629 0.70784553\n",
       "  0.53550391 0.93327977 0.71889439 0.66404577 0.34238786 0.62890143\n",
       "  0.74445123 0.18748554 0.56657829 0.28616557 0.67610112 0.51806145\n",
       "  0.1402275  0.99493701 0.42748876 0.96233551 0.58104136 0.14206817\n",
       "  0.03854541 0.32691702 0.82579177 0.58696512 0.9339228  0.6532305\n",
       "  0.61156161 0.66141699 0.35337829 0.22569185 0.25692658 0.47236967\n",
       "  0.82568799 0.44412585 0.48186248 0.78923157 0.97877723 0.56867029\n",
       "  0.66850105 0.54190978]\n",
       " Skill_factor: 0,\n",
       " Genes: [0.51665764 0.47942246 0.53084904 0.76311166 0.57545277 0.04650171\n",
       "  0.32070061 0.94695423 0.48509906 0.48221233 0.40028273 0.35147231\n",
       "  0.00549157 0.40697814 0.49657332 0.17055318 0.32934944 0.42264827\n",
       "  0.57836944 0.2379168  0.63564814 0.55353636 0.12854876 0.0118892\n",
       "  0.64335335 0.61509198 0.46225148 0.41600444 0.36226378 0.34941808\n",
       "  0.76721366 0.20967328 0.49495236 0.7866543  0.8532377  0.00411309\n",
       "  0.07317604 0.31718353 0.35798254 0.32288676 0.98225734 0.44057305\n",
       "  0.35932758 0.41614965 0.64390803 0.59438415 0.55669644 0.80914456\n",
       "  0.22297261 0.39104817]\n",
       " Skill_factor: 0]"
      ]
     },
     "execution_count": 27,
     "metadata": {},
     "output_type": "execute_result"
    }
   ],
   "source": [
    "popTest2[0][:]"
   ]
  },
  {
   "cell_type": "code",
   "execution_count": 28,
   "metadata": {},
   "outputs": [
    {
     "data": {
      "text/plain": [
       "[Genes: [0.46164388 0.4233285  0.15626752 0.10088391 0.34386453 0.883532\n",
       "  0.91643783 0.98939309 0.67612092 0.86075783 0.69916641 0.30496891\n",
       "  0.90777943 0.04126623 0.08865193 0.14026841 0.84213221 0.10838536\n",
       "  0.0162905  0.97365559 0.84315394 0.40077341 0.40248284 0.29409224\n",
       "  0.52089961 0.10015175 0.54370364 0.33961805 0.80301407 0.46437637\n",
       "  0.76998749 0.54764848 0.47067857 0.42219737 0.13279903 0.58361346\n",
       "  0.45423458 0.13099108 0.16581432 0.04894305 0.79829997 0.80810743\n",
       "  0.46785061 0.3088698  0.0376774  0.45691843 0.47960675 0.56820026\n",
       "  0.3744309  0.53690643]\n",
       " Skill_factor: 0,\n",
       " Genes: [0.49649856 0.94896016 0.10053351 0.8745096  0.77695419 0.71690982\n",
       "  0.87229593 0.97274713 0.61008705 0.21876374 0.81221339 0.82854541\n",
       "  0.76608651 0.87496613 0.51419978 0.62629969 0.56354888 0.20626146\n",
       "  0.6806801  0.51204525 0.22777653 0.7505083  0.908414   0.57727797\n",
       "  0.64500728 0.2765501  0.67606173 0.14076511 0.22838142 0.593462\n",
       "  0.93685208 0.18751955 0.08293849 0.31001825 0.21065664 0.66906897\n",
       "  0.82405974 0.29764668 0.98872695 0.12701416 0.76260309 0.20529331\n",
       "  0.73833654 0.86029437 0.23206884 0.60565633 0.2253449  0.49888485\n",
       "  0.22051961 0.65631894]\n",
       " Skill_factor: 0,\n",
       " Genes: [0.88304075 0.72118891 0.0201793  0.33457004 0.5157941  0.50147531\n",
       "  0.57107768 0.5250045  0.34233346 0.72414905 0.32732629 0.70784553\n",
       "  0.53550391 0.93327977 0.71889439 0.66404577 0.34238786 0.62890143\n",
       "  0.74445123 0.18748554 0.56657829 0.28616557 0.67610112 0.51806145\n",
       "  0.1402275  0.99493701 0.42748876 0.96233551 0.58104136 0.14206817\n",
       "  0.03854541 0.32691702 0.82579177 0.58696512 0.9339228  0.6532305\n",
       "  0.61156161 0.66141699 0.35337829 0.22569185 0.25692658 0.47236967\n",
       "  0.82568799 0.44412585 0.48186248 0.78923157 0.97877723 0.56867029\n",
       "  0.66850105 0.54190978]\n",
       " Skill_factor: 0,\n",
       " Genes: [0.51665764 0.47942246 0.53084904 0.76311166 0.57545277 0.04650171\n",
       "  0.32070061 0.94695423 0.48509906 0.48221233 0.40028273 0.35147231\n",
       "  0.00549157 0.40697814 0.49657332 0.17055318 0.32934944 0.42264827\n",
       "  0.57836944 0.2379168  0.63564814 0.55353636 0.12854876 0.0118892\n",
       "  0.64335335 0.61509198 0.46225148 0.41600444 0.36226378 0.34941808\n",
       "  0.76721366 0.20967328 0.49495236 0.7866543  0.8532377  0.00411309\n",
       "  0.07317604 0.31718353 0.35798254 0.32288676 0.98225734 0.44057305\n",
       "  0.35932758 0.41614965 0.64390803 0.59438415 0.55669644 0.80914456\n",
       "  0.22297261 0.39104817]\n",
       " Skill_factor: 0]"
      ]
     },
     "execution_count": 28,
     "metadata": {},
     "output_type": "execute_result"
    }
   ],
   "source": [
    "c[0][:]"
   ]
  },
  {
   "cell_type": "markdown",
   "metadata": {},
   "source": [
    "#### SubPop"
   ]
  },
  {
   "cell_type": "code",
   "execution_count": 29,
   "metadata": {},
   "outputs": [
    {
     "data": {
      "text/plain": [
       "<MFEA_lib.EA.SubPopulation at 0x7f49e4990eb0>"
      ]
     },
     "execution_count": 29,
     "metadata": {},
     "output_type": "execute_result"
    }
   ],
   "source": [
    "subPopTest = SubPopulation(\n",
    "    skill_factor= 0,\n",
    "    num_inds= 100,\n",
    "    dim= 50,\n",
    "    task= cec17[0]\n",
    ")\n",
    "subPopTest"
   ]
  },
  {
   "cell_type": "code",
   "execution_count": 30,
   "metadata": {},
   "outputs": [
    {
     "data": {
      "text/plain": [
       "<MFEA_lib.EA.SubPopulation at 0x7f49e4978a90>"
      ]
     },
     "execution_count": 30,
     "metadata": {},
     "output_type": "execute_result"
    }
   ],
   "source": [
    "i = 0\n",
    "subPopTest1 = SubPopulation(\n",
    "    skill_factor= i,\n",
    "    num_inds= 100,\n",
    "    dim= 50,\n",
    "    task= cec17[i]\n",
    ")\n",
    "subPopTest1"
   ]
  },
  {
   "cell_type": "code",
   "execution_count": 57,
   "metadata": {},
   "outputs": [
    {
     "data": {
      "text/plain": [
       "[Genes: [0.22533535 0.98891094 0.1094353  0.99034782 0.74593529 0.32694738\n",
       "  0.31522273 0.16777412 0.18530104 0.96411764 0.04891095 0.66698934\n",
       "  0.79471279 0.00891547 0.87394663 0.8472241  0.05137865 0.18442521\n",
       "  0.92696334 0.61720126 0.61905856 0.2637743  0.99924342 0.43148601\n",
       "  0.15820867 0.19747656 0.77535334 0.95890901 0.160858   0.18156014\n",
       "  0.95318747 0.37983784 0.68181932 0.04704641 0.71162838 0.67659418\n",
       "  0.22707309 0.13762696 0.11230039 0.82527951 0.69041907 0.24497875\n",
       "  0.02081771 0.49654937 0.74121183 0.44350789 0.45625071 0.03304129\n",
       "  0.50507345 0.22817926]\n",
       " Skill_factor: 0,\n",
       " Genes: [0.14077728 0.5395544  0.32708139 0.82513411 0.10301645 0.73478529\n",
       "  0.20750692 0.26462456 0.79700345 0.60303914 0.36327138 0.1605649\n",
       "  0.61798407 0.05023258 0.06034031 0.52369437 0.16272844 0.30460514\n",
       "  0.04260747 0.60452004 0.38287916 0.52599195 0.40634304 0.51464624\n",
       "  0.15895625 0.98670621 0.98338898 0.73888049 0.75326246 0.18511355\n",
       "  0.48764426 0.14486925 0.03258252 0.75294723 0.63443601 0.55251364\n",
       "  0.32652233 0.06694933 0.62102069 0.80886426 0.33467424 0.86857555\n",
       "  0.99878372 0.54263873 0.90451664 0.58935617 0.53805964 0.54663579\n",
       "  0.98989646 0.46583579]\n",
       " Skill_factor: 0]"
      ]
     },
     "execution_count": 57,
     "metadata": {},
     "output_type": "execute_result"
    }
   ],
   "source": [
    "subPopTest[[1, 3]]"
   ]
  },
  {
   "cell_type": "code",
   "execution_count": 31,
   "metadata": {},
   "outputs": [
    {
     "data": {
      "text/plain": [
       "<MFEA_lib.EA.SubPopulation at 0x7f49e4990f10>"
      ]
     },
     "execution_count": 31,
     "metadata": {},
     "output_type": "execute_result"
    }
   ],
   "source": [
    "c = subPopTest + subPopTest1\n",
    "c"
   ]
  },
  {
   "cell_type": "code",
   "execution_count": 32,
   "metadata": {},
   "outputs": [
    {
     "data": {
      "text/plain": [
       "200"
      ]
     },
     "execution_count": 32,
     "metadata": {},
     "output_type": "execute_result"
    }
   ],
   "source": [
    "len(c)"
   ]
  },
  {
   "cell_type": "code",
   "execution_count": 33,
   "metadata": {},
   "outputs": [],
   "source": [
    "a = subPopTest.ls_inds"
   ]
  },
  {
   "cell_type": "code",
   "execution_count": 34,
   "metadata": {},
   "outputs": [
    {
     "data": {
      "text/plain": [
       "array([ 76, 197, 172,  99, 186, 125,   7,  68, 170,  10,  59, 196, 161,\n",
       "       167, 109,  78, 141,  97, 180, 113, 159, 138, 142, 140, 145,  50,\n",
       "        72,  17,  39,  55,  30,  44, 102, 164, 158,  12,  54,   6,  87,\n",
       "       122, 124,  88, 104,  67,   8, 137,  79,  82,  58, 189, 143,  73,\n",
       "       133, 168,  25, 123,  77,  74, 176,  23, 194,  34,  32, 162,  46,\n",
       "       175, 193, 155,  70, 178, 107, 200,  69,  65,  28,  64, 149,  71,\n",
       "       198, 110, 139, 112, 187, 100,  84,  16,  53,  11,  38, 184,  27,\n",
       "        96, 128,  52,  47, 132, 157,  98, 144, 165,  93, 127,  89, 152,\n",
       "       153,   2, 188,  18, 154,  80, 135,   3,  86,  37, 116,  57,   9,\n",
       "       114, 174, 151,  63, 156,  62, 182,  42, 183,  14, 199, 169,  66,\n",
       "         5,  26, 121,   1,  45, 148,  21,  29,  15,  56, 179, 163, 105,\n",
       "       195,  24, 171, 146,  94,  91,  51,  90,  13, 117, 185, 190, 177,\n",
       "       118,  36,  49, 120, 130,  95, 160,  41,  31, 108, 106, 134,   4,\n",
       "        22, 173,  19,  81,  33, 147, 191, 111,  20,  48,  83, 101, 136,\n",
       "       129,  60,  40,  61, 115,  75, 150, 181,  92, 119,  35,  85, 131,\n",
       "       126, 103, 166,  43, 192])"
      ]
     },
     "execution_count": 34,
     "metadata": {},
     "output_type": "execute_result"
    }
   ],
   "source": [
    "c.factorial_rank"
   ]
  },
  {
   "cell_type": "markdown",
   "metadata": {},
   "source": [
    "#### Individual"
   ]
  },
  {
   "cell_type": "code",
   "execution_count": 35,
   "metadata": {},
   "outputs": [],
   "source": [
    "a = Individual(np.arange(10))\n",
    "a.skill_factor = 0\n",
    "a.fcost = 1"
   ]
  },
  {
   "cell_type": "code",
   "execution_count": 36,
   "metadata": {},
   "outputs": [],
   "source": [
    "b = Individual(np.arange(10, 20))\n",
    "b.skill_factor = 1\n",
    "b.fcost = 0.5"
   ]
  },
  {
   "cell_type": "code",
   "execution_count": 37,
   "metadata": {},
   "outputs": [],
   "source": [
    "c = Individual(np.arange(5, 15))\n",
    "c.skill_factor  = 0\n",
    "c.fcost = 0.1"
   ]
  },
  {
   "cell_type": "code",
   "execution_count": 38,
   "metadata": {},
   "outputs": [
    {
     "data": {
      "text/plain": [
       "Genes: [0 1 2 3 4 5 6 7 8 9]\n",
       "Skill_factor: 0"
      ]
     },
     "execution_count": 38,
     "metadata": {},
     "output_type": "execute_result"
    }
   ],
   "source": [
    "a"
   ]
  },
  {
   "cell_type": "code",
   "execution_count": 39,
   "metadata": {},
   "outputs": [
    {
     "data": {
      "text/plain": [
       "Genes: [10 11 12 13 14 15 16 17 18 19]\n",
       "Skill_factor: 1"
      ]
     },
     "execution_count": 39,
     "metadata": {},
     "output_type": "execute_result"
    }
   ],
   "source": [
    "b"
   ]
  },
  {
   "cell_type": "code",
   "execution_count": 40,
   "metadata": {},
   "outputs": [
    {
     "data": {
      "text/plain": [
       "Genes: [ 5  6  7  8  9 10 11 12 13 14]\n",
       "Skill_factor: 0"
      ]
     },
     "execution_count": 40,
     "metadata": {},
     "output_type": "execute_result"
    }
   ],
   "source": [
    "c"
   ]
  },
  {
   "cell_type": "code",
   "execution_count": 41,
   "metadata": {},
   "outputs": [
    {
     "data": {
      "text/plain": [
       "Genes: [10 12 14 16 18 20 22 24 26 28]\n",
       "Skill_factor: 0"
      ]
     },
     "execution_count": 41,
     "metadata": {},
     "output_type": "execute_result"
    }
   ],
   "source": [
    "a + b"
   ]
  },
  {
   "cell_type": "code",
   "execution_count": 42,
   "metadata": {},
   "outputs": [
    {
     "data": {
      "text/plain": [
       "Genes: [-10 -10 -10 -10 -10 -10 -10 -10 -10 -10]\n",
       "Skill_factor: 0"
      ]
     },
     "execution_count": 42,
     "metadata": {},
     "output_type": "execute_result"
    }
   ],
   "source": [
    "a - b"
   ]
  },
  {
   "cell_type": "code",
   "execution_count": 43,
   "metadata": {},
   "outputs": [
    {
     "data": {
      "text/plain": [
       "Genes: [  0  11  24  39  56  75  96 119 144 171]\n",
       "Skill_factor: 0"
      ]
     },
     "execution_count": 43,
     "metadata": {},
     "output_type": "execute_result"
    }
   ],
   "source": [
    "a * b"
   ]
  },
  {
   "cell_type": "code",
   "execution_count": 44,
   "metadata": {},
   "outputs": [
    {
     "data": {
      "text/plain": [
       "Genes: [0.         0.09090909 0.16666667 0.23076923 0.28571429 0.33333333\n",
       " 0.375      0.41176471 0.44444444 0.47368421]\n",
       "Skill_factor: 0"
      ]
     },
     "execution_count": 44,
     "metadata": {},
     "output_type": "execute_result"
    }
   ],
   "source": [
    "a / b"
   ]
  },
  {
   "cell_type": "code",
   "execution_count": 45,
   "metadata": {},
   "outputs": [
    {
     "data": {
      "text/plain": [
       "Genes: [0 0 0 0 0 0 0 0 0 0]\n",
       "Skill_factor: 0"
      ]
     },
     "execution_count": 45,
     "metadata": {},
     "output_type": "execute_result"
    }
   ],
   "source": [
    "a // b"
   ]
  },
  {
   "cell_type": "code",
   "execution_count": 46,
   "metadata": {},
   "outputs": [
    {
     "data": {
      "text/plain": [
       "Genes: [0 1 2 3 4 5 6 7 8 9]\n",
       "Skill_factor: 0"
      ]
     },
     "execution_count": 46,
     "metadata": {},
     "output_type": "execute_result"
    }
   ],
   "source": [
    "a % b"
   ]
  },
  {
   "cell_type": "code",
   "execution_count": 47,
   "metadata": {},
   "outputs": [
    {
     "data": {
      "text/plain": [
       "Genes: [                  0                   1                4096\n",
       "             1594323           268435456         30517578125\n",
       "       2821109907456     232630513987207   18014398509481984\n",
       " 1350851717672992089]\n",
       "Skill_factor: 0"
      ]
     },
     "execution_count": 47,
     "metadata": {},
     "output_type": "execute_result"
    }
   ],
   "source": [
    "a ** b"
   ]
  },
  {
   "cell_type": "code",
   "execution_count": 48,
   "metadata": {},
   "outputs": [
    {
     "data": {
      "text/plain": [
       "False"
      ]
     },
     "execution_count": 48,
     "metadata": {},
     "output_type": "execute_result"
    }
   ],
   "source": [
    "a < b"
   ]
  },
  {
   "cell_type": "code",
   "execution_count": 49,
   "metadata": {},
   "outputs": [
    {
     "data": {
      "text/plain": [
       "True"
      ]
     },
     "execution_count": 49,
     "metadata": {},
     "output_type": "execute_result"
    }
   ],
   "source": [
    "a < c"
   ]
  },
  {
   "cell_type": "code",
   "execution_count": 50,
   "metadata": {},
   "outputs": [
    {
     "data": {
      "text/plain": [
       "array([7, 8, 5])"
      ]
     },
     "execution_count": 50,
     "metadata": {},
     "output_type": "execute_result"
    }
   ],
   "source": [
    "idx = np.random.choice(10, 3)\n",
    "idx"
   ]
  },
  {
   "cell_type": "code",
   "execution_count": 51,
   "metadata": {},
   "outputs": [
    {
     "data": {
      "text/plain": [
       "Genes: [0 1 2 3 4 5 6 7 8 9]\n",
       "Skill_factor: 0"
      ]
     },
     "execution_count": 51,
     "metadata": {},
     "output_type": "execute_result"
    }
   ],
   "source": [
    "a"
   ]
  },
  {
   "cell_type": "code",
   "execution_count": 52,
   "metadata": {},
   "outputs": [
    {
     "data": {
      "text/plain": [
       "Genes: [10 11 12 13 14 15 16 17 18 19]\n",
       "Skill_factor: 1"
      ]
     },
     "execution_count": 52,
     "metadata": {},
     "output_type": "execute_result"
    }
   ],
   "source": [
    "b"
   ]
  },
  {
   "cell_type": "code",
   "execution_count": 53,
   "metadata": {},
   "outputs": [
    {
     "data": {
      "text/plain": [
       "array([7, 8, 5])"
      ]
     },
     "execution_count": 53,
     "metadata": {},
     "output_type": "execute_result"
    }
   ],
   "source": [
    "a[idx]"
   ]
  },
  {
   "cell_type": "code",
   "execution_count": 54,
   "metadata": {},
   "outputs": [
    {
     "data": {
      "text/plain": [
       "array([17, 18, 15])"
      ]
     },
     "execution_count": 54,
     "metadata": {},
     "output_type": "execute_result"
    }
   ],
   "source": [
    "b[idx]"
   ]
  },
  {
   "cell_type": "code",
   "execution_count": 55,
   "metadata": {},
   "outputs": [
    {
     "ename": "TypeError",
     "evalue": "only integer scalar arrays can be converted to a scalar index",
     "output_type": "error",
     "traceback": [
      "\u001b[0;31m---------------------------------------------------------------------------\u001b[0m",
      "\u001b[0;31mTypeError\u001b[0m                                 Traceback (most recent call last)",
      "\u001b[0;32m/tmp/ipykernel_276043/100404518.py\u001b[0m in \u001b[0;36m<module>\u001b[0;34m\u001b[0m\n\u001b[0;32m----> 1\u001b[0;31m \u001b[0ma\u001b[0m\u001b[0;34m[\u001b[0m\u001b[0midx\u001b[0m\u001b[0;34m]\u001b[0m \u001b[0;34m=\u001b[0m \u001b[0mb\u001b[0m\u001b[0;34m[\u001b[0m\u001b[0midx\u001b[0m\u001b[0;34m]\u001b[0m\u001b[0;34m\u001b[0m\u001b[0;34m\u001b[0m\u001b[0m\n\u001b[0m",
      "\u001b[0;31mTypeError\u001b[0m: only integer scalar arrays can be converted to a scalar index"
     ]
    }
   ],
   "source": [
    "a[idx] = b[idx]"
   ]
  },
  {
   "cell_type": "code",
   "execution_count": null,
   "metadata": {},
   "outputs": [],
   "source": [
    "a.genes[idx] = b.genes[idx]"
   ]
  },
  {
   "cell_type": "code",
   "execution_count": null,
   "metadata": {},
   "outputs": [
    {
     "data": {
      "text/plain": [
       "Genes: [10  1  2  3  4  5  6  7 18 19]\n",
       "Skill_factor: 0"
      ]
     },
     "execution_count": 93,
     "metadata": {},
     "output_type": "execute_result"
    }
   ],
   "source": [
    "a"
   ]
  }
 ],
 "metadata": {
  "interpreter": {
   "hash": "f9f85f796d01129d0dd105a088854619f454435301f6ffec2fea96ecbd9be4ac"
  },
  "kernelspec": {
   "display_name": "Python 3.9.5 64-bit",
   "language": "python",
   "name": "python3"
  },
  "language_info": {
   "codemirror_mode": {
    "name": "ipython",
    "version": 3
   },
   "file_extension": ".py",
   "mimetype": "text/x-python",
   "name": "python",
   "nbconvert_exporter": "python",
   "pygments_lexer": "ipython3",
   "version": "3.9.5"
  },
  "orig_nbformat": 4
 },
 "nbformat": 4,
 "nbformat_minor": 2
}
