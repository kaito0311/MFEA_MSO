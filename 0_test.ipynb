{
 "cells": [
  {
   "cell_type": "code",
   "execution_count": 94,
   "metadata": {},
   "outputs": [],
   "source": [
    "import time"
   ]
  },
  {
   "cell_type": "code",
   "execution_count": 95,
   "metadata": {},
   "outputs": [],
   "source": [
    "import numpy as np"
   ]
  },
  {
   "cell_type": "code",
   "execution_count": 96,
   "metadata": {},
   "outputs": [
    {
     "data": {
      "text/plain": [
       "1"
      ]
     },
     "execution_count": 96,
     "metadata": {},
     "output_type": "execute_result"
    }
   ],
   "source": [
    "np.random.randint(0, 10 )"
   ]
  },
  {
   "cell_type": "markdown",
   "metadata": {},
   "source": [
    "### tasks"
   ]
  },
  {
   "cell_type": "code",
   "execution_count": 97,
   "metadata": {},
   "outputs": [],
   "source": [
    "from MFEA_lib.tasks import Benchmark"
   ]
  },
  {
   "cell_type": "code",
   "execution_count": 98,
   "metadata": {},
   "outputs": [],
   "source": [
    "cec17 = Benchmark.CEC17_benchmark.get_10tasks_benchmark()"
   ]
  },
  {
   "cell_type": "code",
   "execution_count": 99,
   "metadata": {},
   "outputs": [
    {
     "name": "stdout",
     "output_type": "stream",
     "text": [
      "Sphere: [-100, 100]^50\n",
      "Sphere: [-100, 100]^50\n",
      "Sphere: [-100, 100]^50\n",
      "Weierstrass: [-0.5, 0.5]^25\n",
      "Rosenbrock: [-50, 50]^50\n",
      "Ackley: [-50, 50]^50\n",
      "Weierstrass: [-0.5, 0.5]^50\n",
      "Schwefel: [-500, 500]^50\n",
      "Griewank: [-100, 100]^50\n",
      "Rastrigin: [-50, 50]^50\n"
     ]
    }
   ],
   "source": [
    "for t in cec17:\n",
    "    print(t.name)"
   ]
  },
  {
   "cell_type": "code",
   "execution_count": 100,
   "metadata": {},
   "outputs": [
    {
     "name": "stdout",
     "output_type": "stream",
     "text": [
      "[0. 0.]\n",
      "[80. 80.]\n",
      "[-80. -80.]\n",
      "[-0.4 -0.4]\n",
      "[0. 0.]\n",
      "[40. 40.]\n",
      "[-0.4 -0.4]\n",
      "[420.9687 420.9687]\n",
      "[-80.  80.]\n",
      "[ 40. -40.]\n"
     ]
    }
   ],
   "source": [
    "for t in cec17:\n",
    "    print(t.global_optimal[[0, -1]])"
   ]
  },
  {
   "cell_type": "code",
   "execution_count": 101,
   "metadata": {},
   "outputs": [
    {
     "name": "stdout",
     "output_type": "stream",
     "text": [
      "[0.5 0.5]\n",
      "[0.9 0.9]\n",
      "[0.1 0.1]\n",
      "[0.1 0.1]\n",
      "[0.5 0.5]\n",
      "[0.9 0.9]\n",
      "[0.1 0.1]\n",
      "[0.9209687 0.9209687]\n",
      "[0.1 0.9]\n",
      "[0.9 0.1]\n"
     ]
    }
   ],
   "source": [
    "print(cec17[0].encode(cec17[0].global_optimal)[[0, -1]])\n",
    "print(cec17[1].encode(cec17[1].global_optimal)[[0, -1]])\n",
    "print(cec17[2].encode(cec17[2].global_optimal)[[0, -1]])\n",
    "print(cec17[3].encode(cec17[3].global_optimal)[[0, -1]])\n",
    "print(cec17[4].encode(cec17[4].global_optimal)[[0, -1]])\n",
    "print(cec17[5].encode(cec17[5].global_optimal)[[0, -1]])\n",
    "print(cec17[6].encode(cec17[6].global_optimal)[[0, -1]])\n",
    "print(cec17[7].encode(cec17[7].global_optimal)[[0, -1]])\n",
    "print(cec17[8].encode(cec17[8].global_optimal)[[0, -1]])\n",
    "print(cec17[9].encode(cec17[9].global_optimal)[[0, -1]])"
   ]
  },
  {
   "cell_type": "markdown",
   "metadata": {},
   "source": [
    "shift\n",
    "\n",
    "encode: đầu vào là không gian đã dịch chuyển\n",
    "\n",
    "> R' -bound-> bounded_space -encode-> [0, 1] \n",
    "\n",
    "decode: đầu vào là không gian mã hóa [0, 1] \n",
    "\n",
    ">[0, 1] -decode-> bounded_space -unbound-> R' -inv_shift-> R"
   ]
  },
  {
   "cell_type": "code",
   "execution_count": 102,
   "metadata": {},
   "outputs": [],
   "source": [
    "cec17_2 = Benchmark.CEC17_benchmark.get_10tasks_benchmark()"
   ]
  },
  {
   "cell_type": "code",
   "execution_count": 103,
   "metadata": {},
   "outputs": [
    {
     "data": {
      "text/plain": [
       "<MFEA_lib.tasks.function.Sphere at 0x7f195dfe03a0>"
      ]
     },
     "execution_count": 103,
     "metadata": {},
     "output_type": "execute_result"
    }
   ],
   "source": [
    "cec17[0]"
   ]
  },
  {
   "cell_type": "code",
   "execution_count": 104,
   "metadata": {},
   "outputs": [
    {
     "data": {
      "text/plain": [
       "<MFEA_lib.tasks.function.Sphere at 0x7f195dfe0cd0>"
      ]
     },
     "execution_count": 104,
     "metadata": {},
     "output_type": "execute_result"
    }
   ],
   "source": [
    "cec17_2[0]"
   ]
  },
  {
   "cell_type": "code",
   "execution_count": 105,
   "metadata": {},
   "outputs": [
    {
     "data": {
      "text/plain": [
       "True"
      ]
     },
     "execution_count": 105,
     "metadata": {},
     "output_type": "execute_result"
    }
   ],
   "source": [
    "cec17[0] == cec17_2[0]"
   ]
  },
  {
   "cell_type": "code",
   "execution_count": 106,
   "metadata": {},
   "outputs": [
    {
     "data": {
      "text/plain": [
       "0.055269479751586914"
      ]
     },
     "execution_count": 106,
     "metadata": {},
     "output_type": "execute_result"
    }
   ],
   "source": [
    "a = time.time()\n",
    "for i in range(10000):\n",
    "    cec17[0] == cec17_2[0]\n",
    "time.time() - a"
   ]
  },
  {
   "cell_type": "code",
   "execution_count": 107,
   "metadata": {},
   "outputs": [
    {
     "data": {
      "text/plain": [
       "0.009485244750976562"
      ]
     },
     "execution_count": 107,
     "metadata": {},
     "output_type": "execute_result"
    }
   ],
   "source": [
    "a = time.time()\n",
    "for i in range(10000):\n",
    "    cec17[0] == cec17[0]\n",
    "time.time() - a"
   ]
  },
  {
   "cell_type": "markdown",
   "metadata": {},
   "source": [
    "### EA"
   ]
  },
  {
   "cell_type": "code",
   "execution_count": 108,
   "metadata": {},
   "outputs": [],
   "source": [
    "from MFEA_lib.EA import *\n"
   ]
  },
  {
   "cell_type": "markdown",
   "metadata": {},
   "source": [
    "#### Population"
   ]
  },
  {
   "cell_type": "code",
   "execution_count": 109,
   "metadata": {},
   "outputs": [
    {
     "data": {
      "text/plain": [
       "<MFEA_lib.EA.Population at 0x7f195dfe0040>"
      ]
     },
     "execution_count": 109,
     "metadata": {},
     "output_type": "execute_result"
    }
   ],
   "source": [
    "popTest = Population(\n",
    "    num_inds_tasks= [2] * 10,\n",
    "    dim = 50,\n",
    "    list_tasks= cec17\n",
    ")\n",
    "popTest"
   ]
  },
  {
   "cell_type": "code",
   "execution_count": 110,
   "metadata": {},
   "outputs": [
    {
     "data": {
      "text/plain": [
       "<MFEA_lib.EA.Population at 0x7f195dfe02e0>"
      ]
     },
     "execution_count": 110,
     "metadata": {},
     "output_type": "execute_result"
    }
   ],
   "source": [
    "popTest2 = Population(\n",
    "    num_inds_tasks= [2] * 10,\n",
    "    dim = 50,\n",
    "    list_tasks= cec17\n",
    ")\n",
    "popTest2"
   ]
  },
  {
   "cell_type": "code",
   "execution_count": 111,
   "metadata": {},
   "outputs": [
    {
     "data": {
      "text/plain": [
       "<MFEA_lib.EA.Population at 0x7f195de63730>"
      ]
     },
     "execution_count": 111,
     "metadata": {},
     "output_type": "execute_result"
    }
   ],
   "source": [
    "c = popTest + popTest2\n",
    "c"
   ]
  },
  {
   "cell_type": "code",
   "execution_count": 112,
   "metadata": {},
   "outputs": [
    {
     "name": "stdout",
     "output_type": "stream",
     "text": [
      "20\n",
      "20\n",
      "40\n"
     ]
    }
   ],
   "source": [
    "print(len(popTest))\n",
    "print(len(popTest2))\n",
    "print(len(c))"
   ]
  },
  {
   "cell_type": "code",
   "execution_count": 113,
   "metadata": {},
   "outputs": [
    {
     "data": {
      "text/plain": [
       "[Genes: [0.41418209 0.03937598 0.41647873 0.90576682 0.77883933 0.16519674\n",
       "  0.52007358 0.61893286 0.17962291 0.47221915 0.62526914 0.33889539\n",
       "  0.86502686 0.80111413 0.72580267 0.03988543 0.31533665 0.9856574\n",
       "  0.0988608  0.66272625 0.50709804 0.40588161 0.32723217 0.26946509\n",
       "  0.33743995 0.59906049 0.45927618 0.67467029 0.83790194 0.12901333\n",
       "  0.92347082 0.98386155 0.71228343 0.72259621 0.96866726 0.42352799\n",
       "  0.04911001 0.48104873 0.35282102 0.34430987 0.69694298 0.8294831\n",
       "  0.5932291  0.53516399 0.47999502 0.2212561  0.87487185 0.0714026\n",
       "  0.61412782 0.32586342]\n",
       " Skill_factor: 0,\n",
       " Genes: [0.40074625 0.69250141 0.09824934 0.2355427  0.66031199 0.10838882\n",
       "  0.48730147 0.11157017 0.46087129 0.04181642 0.90107095 0.80686989\n",
       "  0.17562133 0.42614728 0.60669317 0.62272897 0.33081023 0.23713218\n",
       "  0.1899036  0.56377351 0.93143689 0.74417486 0.24521821 0.63316821\n",
       "  0.93115456 0.42954876 0.55320537 0.93248867 0.23118499 0.16878755\n",
       "  0.44263788 0.73375524 0.44686301 0.27083053 0.73458997 0.68280147\n",
       "  0.30095979 0.77814718 0.42418004 0.95416522 0.52432143 0.2701793\n",
       "  0.17015434 0.77982196 0.41846299 0.74597029 0.40686376 0.04413459\n",
       "  0.93992669 0.61777206]\n",
       " Skill_factor: 0]"
      ]
     },
     "execution_count": 113,
     "metadata": {},
     "output_type": "execute_result"
    }
   ],
   "source": [
    "popTest[0][:]"
   ]
  },
  {
   "cell_type": "code",
   "execution_count": 114,
   "metadata": {},
   "outputs": [
    {
     "data": {
      "text/plain": [
       "[Genes: [0.24414185 0.76918178 0.33222282 0.64947108 0.77492162 0.32737485\n",
       "  0.52169348 0.71168416 0.35722938 0.57252534 0.67749411 0.59118769\n",
       "  0.22480831 0.32120046 0.45796041 0.93829362 0.27581043 0.58624278\n",
       "  0.92269544 0.54984034 0.04558765 0.33472943 0.63937944 0.78260755\n",
       "  0.32709283 0.59164707 0.0047156  0.13824346 0.5230024  0.56224126\n",
       "  0.34745125 0.71938834 0.91431283 0.57832715 0.61270037 0.96051134\n",
       "  0.80755801 0.77731701 0.27917635 0.35961197 0.35129605 0.69374477\n",
       "  0.62718079 0.10992665 0.20959712 0.78059797 0.74782608 0.04475093\n",
       "  0.94204823 0.25635102]\n",
       " Skill_factor: 0,\n",
       " Genes: [0.12296975 0.22748151 0.81595396 0.67438079 0.42867252 0.36152873\n",
       "  0.59826127 0.20258112 0.97867637 0.87387796 0.95615444 0.59093436\n",
       "  0.07011999 0.54340301 0.12190255 0.94367093 0.7484525  0.1118111\n",
       "  0.94522715 0.42196034 0.97237449 0.10257745 0.95294937 0.24083269\n",
       "  0.10014066 0.73718474 0.17208158 0.52972778 0.36423724 0.91730281\n",
       "  0.93038248 0.64800951 0.26026255 0.24843541 0.09569111 0.47134639\n",
       "  0.12106871 0.75149419 0.40518292 0.63455599 0.71962433 0.93682431\n",
       "  0.78171793 0.74966428 0.1634362  0.68638555 0.19563331 0.62888861\n",
       "  0.92299973 0.32544133]\n",
       " Skill_factor: 0]"
      ]
     },
     "execution_count": 114,
     "metadata": {},
     "output_type": "execute_result"
    }
   ],
   "source": [
    "popTest2[0][:]"
   ]
  },
  {
   "cell_type": "code",
   "execution_count": 115,
   "metadata": {},
   "outputs": [
    {
     "data": {
      "text/plain": [
       "[Genes: [0.41418209 0.03937598 0.41647873 0.90576682 0.77883933 0.16519674\n",
       "  0.52007358 0.61893286 0.17962291 0.47221915 0.62526914 0.33889539\n",
       "  0.86502686 0.80111413 0.72580267 0.03988543 0.31533665 0.9856574\n",
       "  0.0988608  0.66272625 0.50709804 0.40588161 0.32723217 0.26946509\n",
       "  0.33743995 0.59906049 0.45927618 0.67467029 0.83790194 0.12901333\n",
       "  0.92347082 0.98386155 0.71228343 0.72259621 0.96866726 0.42352799\n",
       "  0.04911001 0.48104873 0.35282102 0.34430987 0.69694298 0.8294831\n",
       "  0.5932291  0.53516399 0.47999502 0.2212561  0.87487185 0.0714026\n",
       "  0.61412782 0.32586342]\n",
       " Skill_factor: 0,\n",
       " Genes: [0.40074625 0.69250141 0.09824934 0.2355427  0.66031199 0.10838882\n",
       "  0.48730147 0.11157017 0.46087129 0.04181642 0.90107095 0.80686989\n",
       "  0.17562133 0.42614728 0.60669317 0.62272897 0.33081023 0.23713218\n",
       "  0.1899036  0.56377351 0.93143689 0.74417486 0.24521821 0.63316821\n",
       "  0.93115456 0.42954876 0.55320537 0.93248867 0.23118499 0.16878755\n",
       "  0.44263788 0.73375524 0.44686301 0.27083053 0.73458997 0.68280147\n",
       "  0.30095979 0.77814718 0.42418004 0.95416522 0.52432143 0.2701793\n",
       "  0.17015434 0.77982196 0.41846299 0.74597029 0.40686376 0.04413459\n",
       "  0.93992669 0.61777206]\n",
       " Skill_factor: 0,\n",
       " Genes: [0.24414185 0.76918178 0.33222282 0.64947108 0.77492162 0.32737485\n",
       "  0.52169348 0.71168416 0.35722938 0.57252534 0.67749411 0.59118769\n",
       "  0.22480831 0.32120046 0.45796041 0.93829362 0.27581043 0.58624278\n",
       "  0.92269544 0.54984034 0.04558765 0.33472943 0.63937944 0.78260755\n",
       "  0.32709283 0.59164707 0.0047156  0.13824346 0.5230024  0.56224126\n",
       "  0.34745125 0.71938834 0.91431283 0.57832715 0.61270037 0.96051134\n",
       "  0.80755801 0.77731701 0.27917635 0.35961197 0.35129605 0.69374477\n",
       "  0.62718079 0.10992665 0.20959712 0.78059797 0.74782608 0.04475093\n",
       "  0.94204823 0.25635102]\n",
       " Skill_factor: 0,\n",
       " Genes: [0.12296975 0.22748151 0.81595396 0.67438079 0.42867252 0.36152873\n",
       "  0.59826127 0.20258112 0.97867637 0.87387796 0.95615444 0.59093436\n",
       "  0.07011999 0.54340301 0.12190255 0.94367093 0.7484525  0.1118111\n",
       "  0.94522715 0.42196034 0.97237449 0.10257745 0.95294937 0.24083269\n",
       "  0.10014066 0.73718474 0.17208158 0.52972778 0.36423724 0.91730281\n",
       "  0.93038248 0.64800951 0.26026255 0.24843541 0.09569111 0.47134639\n",
       "  0.12106871 0.75149419 0.40518292 0.63455599 0.71962433 0.93682431\n",
       "  0.78171793 0.74966428 0.1634362  0.68638555 0.19563331 0.62888861\n",
       "  0.92299973 0.32544133]\n",
       " Skill_factor: 0]"
      ]
     },
     "execution_count": 115,
     "metadata": {},
     "output_type": "execute_result"
    }
   ],
   "source": [
    "c[0][:]"
   ]
  },
  {
   "cell_type": "markdown",
   "metadata": {},
   "source": [
    "#### SubPop"
   ]
  },
  {
   "cell_type": "code",
   "execution_count": 116,
   "metadata": {},
   "outputs": [
    {
     "data": {
      "text/plain": [
       "<MFEA_lib.EA.SubPopulation at 0x7f195de63820>"
      ]
     },
     "execution_count": 116,
     "metadata": {},
     "output_type": "execute_result"
    }
   ],
   "source": [
    "subPopTest = SubPopulation(\n",
    "    skill_factor= 0,\n",
    "    num_inds= 100,\n",
    "    dim= 50,\n",
    "    task= cec17[0]\n",
    ")\n",
    "subPopTest"
   ]
  },
  {
   "cell_type": "code",
   "execution_count": 117,
   "metadata": {},
   "outputs": [
    {
     "data": {
      "text/plain": [
       "<MFEA_lib.EA.SubPopulation at 0x7f195dfe0bb0>"
      ]
     },
     "execution_count": 117,
     "metadata": {},
     "output_type": "execute_result"
    }
   ],
   "source": [
    "i = 0\n",
    "subPopTest1 = SubPopulation(\n",
    "    skill_factor= i,\n",
    "    num_inds= 100,\n",
    "    dim= 50,\n",
    "    task= cec17[i]\n",
    ")\n",
    "subPopTest1"
   ]
  },
  {
   "cell_type": "code",
   "execution_count": 118,
   "metadata": {},
   "outputs": [
    {
     "data": {
      "text/plain": [
       "<MFEA_lib.EA.SubPopulation at 0x7f195dff59d0>"
      ]
     },
     "execution_count": 118,
     "metadata": {},
     "output_type": "execute_result"
    }
   ],
   "source": [
    "c = subPopTest + subPopTest1\n",
    "c"
   ]
  },
  {
   "cell_type": "code",
   "execution_count": 119,
   "metadata": {},
   "outputs": [
    {
     "data": {
      "text/plain": [
       "200"
      ]
     },
     "execution_count": 119,
     "metadata": {},
     "output_type": "execute_result"
    }
   ],
   "source": [
    "len(c)"
   ]
  },
  {
   "cell_type": "code",
   "execution_count": 142,
   "metadata": {},
   "outputs": [],
   "source": [
    "a = subPopTest.ls_inds"
   ]
  },
  {
   "cell_type": "code",
   "execution_count": 120,
   "metadata": {},
   "outputs": [
    {
     "data": {
      "text/plain": [
       "array([143, 195, 176,  52, 154, 109,  17,  62, 113,  35,  10, 187, 127,\n",
       "       198, 128,  49,  34,  28,  50, 119,  46, 179, 155,  99,  40,   1,\n",
       "        69,  25, 139, 124,  83, 173, 170, 189,  31,  58, 136,  37, 191,\n",
       "       135,  41, 182, 175, 178,  70, 197, 105, 131,  77,  64, 165,  74,\n",
       "       123, 171,   9, 159, 183,  14,  63,  42,  96,   4, 122, 180,  18,\n",
       "        60,  93, 111,  39,  92, 138, 115, 188, 153, 103,  43,  87, 102,\n",
       "        12, 169, 106,  15, 181,  95,  80,  73, 160,  48, 161,  68,  79,\n",
       "       164,  45, 114, 172,  59,  13, 200,  29,  27,  23,  26, 151, 129,\n",
       "         6, 108, 104, 148, 162,  57,   3, 134,  11, 184, 112,  91,  47,\n",
       "       167,   5, 144, 146, 140, 150, 166,  88, 157, 133, 137,  94, 192,\n",
       "        22,  51,   7,  71,  67,  78, 163, 101,  36, 185, 152, 125, 142,\n",
       "        89,  44,  61,  30, 147, 156,  56, 193,  66, 149,  65,  84,  82,\n",
       "       194,  33,  16, 120,  24,   8,  38, 177,  86,  55, 190, 132,  32,\n",
       "       158,  90, 118, 174,   2,  53, 100,  81, 199, 116,  97,  72, 196,\n",
       "       168, 126,  85,  98, 110, 141,  21,  20, 145,  75, 107, 186, 121,\n",
       "       130,  19,  76, 117,  54])"
      ]
     },
     "execution_count": 120,
     "metadata": {},
     "output_type": "execute_result"
    }
   ],
   "source": [
    "c.factorial_rank"
   ]
  },
  {
   "cell_type": "markdown",
   "metadata": {},
   "source": [
    "#### Individual"
   ]
  },
  {
   "cell_type": "code",
   "execution_count": 121,
   "metadata": {},
   "outputs": [],
   "source": [
    "a = Individual(np.arange(10))\n",
    "a.skill_factor = 0\n",
    "a.fcost = 1"
   ]
  },
  {
   "cell_type": "code",
   "execution_count": 122,
   "metadata": {},
   "outputs": [],
   "source": [
    "b = Individual(np.arange(10, 20))\n",
    "b.skill_factor = 1\n",
    "b.fcost = 0.5"
   ]
  },
  {
   "cell_type": "code",
   "execution_count": 123,
   "metadata": {},
   "outputs": [],
   "source": [
    "c = Individual(np.arange(5, 15))\n",
    "c.skill_factor  = 0\n",
    "c.fcost = 0.1"
   ]
  },
  {
   "cell_type": "code",
   "execution_count": 124,
   "metadata": {},
   "outputs": [
    {
     "data": {
      "text/plain": [
       "Genes: [0 1 2 3 4 5 6 7 8 9]\n",
       "Skill_factor: 0"
      ]
     },
     "execution_count": 124,
     "metadata": {},
     "output_type": "execute_result"
    }
   ],
   "source": [
    "a"
   ]
  },
  {
   "cell_type": "code",
   "execution_count": 125,
   "metadata": {},
   "outputs": [
    {
     "data": {
      "text/plain": [
       "Genes: [10 11 12 13 14 15 16 17 18 19]\n",
       "Skill_factor: 1"
      ]
     },
     "execution_count": 125,
     "metadata": {},
     "output_type": "execute_result"
    }
   ],
   "source": [
    "b"
   ]
  },
  {
   "cell_type": "code",
   "execution_count": 126,
   "metadata": {},
   "outputs": [
    {
     "data": {
      "text/plain": [
       "Genes: [ 5  6  7  8  9 10 11 12 13 14]\n",
       "Skill_factor: 0"
      ]
     },
     "execution_count": 126,
     "metadata": {},
     "output_type": "execute_result"
    }
   ],
   "source": [
    "c"
   ]
  },
  {
   "cell_type": "code",
   "execution_count": 127,
   "metadata": {},
   "outputs": [
    {
     "data": {
      "text/plain": [
       "Genes: [10 12 14 16 18 20 22 24 26 28]\n",
       "Skill_factor: 0"
      ]
     },
     "execution_count": 127,
     "metadata": {},
     "output_type": "execute_result"
    }
   ],
   "source": [
    "a + b"
   ]
  },
  {
   "cell_type": "code",
   "execution_count": 128,
   "metadata": {},
   "outputs": [
    {
     "data": {
      "text/plain": [
       "Genes: [-10 -10 -10 -10 -10 -10 -10 -10 -10 -10]\n",
       "Skill_factor: 0"
      ]
     },
     "execution_count": 128,
     "metadata": {},
     "output_type": "execute_result"
    }
   ],
   "source": [
    "a - b"
   ]
  },
  {
   "cell_type": "code",
   "execution_count": 129,
   "metadata": {},
   "outputs": [
    {
     "data": {
      "text/plain": [
       "Genes: [  0  11  24  39  56  75  96 119 144 171]\n",
       "Skill_factor: 0"
      ]
     },
     "execution_count": 129,
     "metadata": {},
     "output_type": "execute_result"
    }
   ],
   "source": [
    "a * b"
   ]
  },
  {
   "cell_type": "code",
   "execution_count": 130,
   "metadata": {},
   "outputs": [
    {
     "data": {
      "text/plain": [
       "Genes: [0.         0.09090909 0.16666667 0.23076923 0.28571429 0.33333333\n",
       " 0.375      0.41176471 0.44444444 0.47368421]\n",
       "Skill_factor: 0"
      ]
     },
     "execution_count": 130,
     "metadata": {},
     "output_type": "execute_result"
    }
   ],
   "source": [
    "a / b"
   ]
  },
  {
   "cell_type": "code",
   "execution_count": 131,
   "metadata": {},
   "outputs": [
    {
     "data": {
      "text/plain": [
       "Genes: [0 0 0 0 0 0 0 0 0 0]\n",
       "Skill_factor: 0"
      ]
     },
     "execution_count": 131,
     "metadata": {},
     "output_type": "execute_result"
    }
   ],
   "source": [
    "a // b"
   ]
  },
  {
   "cell_type": "code",
   "execution_count": 132,
   "metadata": {},
   "outputs": [
    {
     "data": {
      "text/plain": [
       "Genes: [0 1 2 3 4 5 6 7 8 9]\n",
       "Skill_factor: 0"
      ]
     },
     "execution_count": 132,
     "metadata": {},
     "output_type": "execute_result"
    }
   ],
   "source": [
    "a % b"
   ]
  },
  {
   "cell_type": "code",
   "execution_count": 133,
   "metadata": {},
   "outputs": [
    {
     "data": {
      "text/plain": [
       "Genes: [                  0                   1                4096\n",
       "             1594323           268435456         30517578125\n",
       "       2821109907456     232630513987207   18014398509481984\n",
       " 1350851717672992089]\n",
       "Skill_factor: 0"
      ]
     },
     "execution_count": 133,
     "metadata": {},
     "output_type": "execute_result"
    }
   ],
   "source": [
    "a ** b"
   ]
  },
  {
   "cell_type": "code",
   "execution_count": 134,
   "metadata": {},
   "outputs": [
    {
     "data": {
      "text/plain": [
       "False"
      ]
     },
     "execution_count": 134,
     "metadata": {},
     "output_type": "execute_result"
    }
   ],
   "source": [
    "a < b"
   ]
  },
  {
   "cell_type": "code",
   "execution_count": 135,
   "metadata": {},
   "outputs": [
    {
     "data": {
      "text/plain": [
       "True"
      ]
     },
     "execution_count": 135,
     "metadata": {},
     "output_type": "execute_result"
    }
   ],
   "source": [
    "a < c"
   ]
  },
  {
   "cell_type": "code",
   "execution_count": 136,
   "metadata": {},
   "outputs": [
    {
     "data": {
      "text/plain": [
       "array([3, 2, 8])"
      ]
     },
     "execution_count": 136,
     "metadata": {},
     "output_type": "execute_result"
    }
   ],
   "source": [
    "idx = np.random.choice(10, 3)\n",
    "idx"
   ]
  },
  {
   "cell_type": "code",
   "execution_count": 137,
   "metadata": {},
   "outputs": [
    {
     "data": {
      "text/plain": [
       "Genes: [0 1 2 3 4 5 6 7 8 9]\n",
       "Skill_factor: 0"
      ]
     },
     "execution_count": 137,
     "metadata": {},
     "output_type": "execute_result"
    }
   ],
   "source": [
    "a"
   ]
  },
  {
   "cell_type": "code",
   "execution_count": 138,
   "metadata": {},
   "outputs": [
    {
     "data": {
      "text/plain": [
       "Genes: [10 11 12 13 14 15 16 17 18 19]\n",
       "Skill_factor: 1"
      ]
     },
     "execution_count": 138,
     "metadata": {},
     "output_type": "execute_result"
    }
   ],
   "source": [
    "b"
   ]
  },
  {
   "cell_type": "code",
   "execution_count": 139,
   "metadata": {},
   "outputs": [
    {
     "data": {
      "text/plain": [
       "array([3, 2, 8])"
      ]
     },
     "execution_count": 139,
     "metadata": {},
     "output_type": "execute_result"
    }
   ],
   "source": [
    "a[idx]"
   ]
  },
  {
   "cell_type": "code",
   "execution_count": 140,
   "metadata": {},
   "outputs": [
    {
     "data": {
      "text/plain": [
       "array([13, 12, 18])"
      ]
     },
     "execution_count": 140,
     "metadata": {},
     "output_type": "execute_result"
    }
   ],
   "source": [
    "b[idx]"
   ]
  },
  {
   "cell_type": "code",
   "execution_count": 141,
   "metadata": {},
   "outputs": [
    {
     "ename": "TypeError",
     "evalue": "only integer scalar arrays can be converted to a scalar index",
     "output_type": "error",
     "traceback": [
      "\u001b[0;31m---------------------------------------------------------------------------\u001b[0m",
      "\u001b[0;31mTypeError\u001b[0m                                 Traceback (most recent call last)",
      "\u001b[0;32m/tmp/ipykernel_197776/100404518.py\u001b[0m in \u001b[0;36m<module>\u001b[0;34m\u001b[0m\n\u001b[0;32m----> 1\u001b[0;31m \u001b[0ma\u001b[0m\u001b[0;34m[\u001b[0m\u001b[0midx\u001b[0m\u001b[0;34m]\u001b[0m \u001b[0;34m=\u001b[0m \u001b[0mb\u001b[0m\u001b[0;34m[\u001b[0m\u001b[0midx\u001b[0m\u001b[0;34m]\u001b[0m\u001b[0;34m\u001b[0m\u001b[0;34m\u001b[0m\u001b[0m\n\u001b[0m",
      "\u001b[0;31mTypeError\u001b[0m: only integer scalar arrays can be converted to a scalar index"
     ]
    }
   ],
   "source": [
    "a[idx] = b[idx]"
   ]
  },
  {
   "cell_type": "code",
   "execution_count": null,
   "metadata": {},
   "outputs": [],
   "source": [
    "a.genes[idx] = b.genes[idx]"
   ]
  },
  {
   "cell_type": "code",
   "execution_count": null,
   "metadata": {},
   "outputs": [
    {
     "data": {
      "text/plain": [
       "Genes: [10  1  2  3  4  5  6  7 18 19]\n",
       "Skill_factor: 0"
      ]
     },
     "execution_count": 93,
     "metadata": {},
     "output_type": "execute_result"
    }
   ],
   "source": [
    "a"
   ]
  }
 ],
 "metadata": {
  "interpreter": {
   "hash": "f9f85f796d01129d0dd105a088854619f454435301f6ffec2fea96ecbd9be4ac"
  },
  "kernelspec": {
   "display_name": "Python 3.9.5 64-bit",
   "language": "python",
   "name": "python3"
  },
  "language_info": {
   "codemirror_mode": {
    "name": "ipython",
    "version": 3
   },
   "file_extension": ".py",
   "mimetype": "text/x-python",
   "name": "python",
   "nbconvert_exporter": "python",
   "pygments_lexer": "ipython3",
   "version": "3.9.5"
  },
  "orig_nbformat": 4
 },
 "nbformat": 4,
 "nbformat_minor": 2
}
