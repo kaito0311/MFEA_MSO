{
 "cells": [
  {
   "cell_type": "code",
   "execution_count": 1,
   "metadata": {},
   "outputs": [],
   "source": [
    "import numpy as np"
   ]
  },
  {
   "cell_type": "code",
   "execution_count": 2,
   "metadata": {},
   "outputs": [
    {
     "data": {
      "text/plain": [
       "5"
      ]
     },
     "execution_count": 2,
     "metadata": {},
     "output_type": "execute_result"
    }
   ],
   "source": [
    "np.random.randint(0, 10 )"
   ]
  },
  {
   "cell_type": "markdown",
   "metadata": {},
   "source": [
    "### tasks"
   ]
  },
  {
   "cell_type": "code",
   "execution_count": 3,
   "metadata": {},
   "outputs": [],
   "source": [
    "from MFEA_lib.tasks import Benchmark"
   ]
  },
  {
   "cell_type": "code",
   "execution_count": 4,
   "metadata": {},
   "outputs": [],
   "source": [
    "cec17 = Benchmark.CEC17_benchmark.get_10tasks_benchmark()"
   ]
  },
  {
   "cell_type": "code",
   "execution_count": 5,
   "metadata": {},
   "outputs": [
    {
     "name": "stdout",
     "output_type": "stream",
     "text": [
      "Sphere: [-100, 100]^50\n",
      "Sphere: [-100, 100]^50\n",
      "Sphere: [-100, 100]^50\n",
      "Weierstrass: [-0.5, 0.5]^25\n",
      "Rosenbrock: [-50, 50]^50\n",
      "Ackley: [-50, 50]^50\n",
      "Weierstrass: [-0.5, 0.5]^50\n",
      "Schwefel: [-500, 500]^50\n",
      "Griewank: [-100, 100]^50\n",
      "Rastrigin: [-50, 50]^50\n"
     ]
    }
   ],
   "source": [
    "for t in cec17:\n",
    "    print(t.name)"
   ]
  },
  {
   "cell_type": "code",
   "execution_count": 6,
   "metadata": {},
   "outputs": [
    {
     "name": "stdout",
     "output_type": "stream",
     "text": [
      "[0 0]\n",
      "[80 80]\n",
      "[-80 -80]\n",
      "[-0.4 -0.4]\n",
      "[-1 -1]\n",
      "[40 40]\n",
      "[-0.4 -0.4]\n",
      "[0 0]\n",
      "[-80  80]\n",
      "[ 40 -40]\n"
     ]
    }
   ],
   "source": [
    "for t in cec17:\n",
    "    print(t.global_optimal[[0, -1]])"
   ]
  },
  {
   "cell_type": "code",
   "execution_count": 7,
   "metadata": {},
   "outputs": [
    {
     "data": {
      "text/plain": [
       "array([0.9, 0.9, 0.9, 0.9, 0.9, 0.9, 0.9, 0.9, 0.9, 0.9, 0.9, 0.9, 0.9,\n",
       "       0.9, 0.9, 0.9, 0.9, 0.9, 0.9, 0.9, 0.9, 0.9, 0.9, 0.9, 0.9, 0.1,\n",
       "       0.1, 0.1, 0.1, 0.1, 0.1, 0.1, 0.1, 0.1, 0.1, 0.1, 0.1, 0.1, 0.1,\n",
       "       0.1, 0.1, 0.1, 0.1, 0.1, 0.1, 0.1, 0.1, 0.1, 0.1, 0.1])"
      ]
     },
     "execution_count": 7,
     "metadata": {},
     "output_type": "execute_result"
    }
   ],
   "source": [
    "cec17[9].encode(np.append(np.array([0] * 25), np.array([0] * 25)))"
   ]
  },
  {
   "cell_type": "code",
   "execution_count": 8,
   "metadata": {},
   "outputs": [
    {
     "name": "stdout",
     "output_type": "stream",
     "text": [
      "0.0\n",
      "0.0\n",
      "0.0\n",
      "0.0\n",
      "0.0\n",
      "0.0\n",
      "0.0\n",
      "0.0006363918728311546\n",
      "0.0\n",
      "0.0\n"
     ]
    }
   ],
   "source": [
    "print(cec17[0](cec17[0].encode(np.array([0] * 50))))\n",
    "print(cec17[1](cec17[1].encode(np.array([0] * 50))))\n",
    "print(cec17[2](cec17[2].encode(np.array([0] * 50))))\n",
    "print(cec17[3](cec17[3].encode(np.array([0] * 25))))\n",
    "print(cec17[4](cec17[4].encode(np.array([1] * 50))))\n",
    "print(cec17[5](cec17[5].encode(np.array([0] * 50))))\n",
    "print(cec17[6](cec17[6].encode(np.array([0] * 50))))\n",
    "print(cec17[7](cec17[7].encode(np.array([420.9687] * 50))))\n",
    "print(cec17[8](cec17[8].encode(np.append(np.array([0] * 25), np.array([0] * 25)))))\n",
    "print(cec17[9](cec17[9].encode(np.append(np.array([0] * 25), np.array([0] * 25)))))\n"
   ]
  },
  {
   "cell_type": "code",
   "execution_count": 9,
   "metadata": {},
   "outputs": [
    {
     "name": "stdout",
     "output_type": "stream",
     "text": [
      "[0.5 0.5]\n",
      "[1.3 1.3]\n",
      "[-0.3 -0.3]\n",
      "[-0.3 -0.3]\n",
      "[0.48 0.48]\n",
      "[1.3 1.3]\n",
      "[-0.3 -0.3]\n",
      "[0.5 0.5]\n",
      "[-0.3  1.3]\n",
      "[ 1.3 -0.3]\n"
     ]
    }
   ],
   "source": [
    "print(cec17[0].encode(cec17[0].global_optimal)[[0, -1]])\n",
    "print(cec17[1].encode(cec17[1].global_optimal)[[0, -1]])\n",
    "print(cec17[2].encode(cec17[2].global_optimal)[[0, -1]])\n",
    "print(cec17[3].encode(cec17[3].global_optimal)[[0, -1]])\n",
    "print(cec17[4].encode(cec17[4].global_optimal)[[0, -1]])\n",
    "print(cec17[5].encode(cec17[5].global_optimal)[[0, -1]])\n",
    "print(cec17[6].encode(cec17[6].global_optimal)[[0, -1]])\n",
    "print(cec17[7].encode(cec17[7].global_optimal)[[0, -1]])\n",
    "print(cec17[8].encode(cec17[8].global_optimal)[[0, -1]])\n",
    "print(cec17[9].encode(cec17[9].global_optimal)[[0, -1]])"
   ]
  },
  {
   "cell_type": "code",
   "execution_count": 28,
   "metadata": {},
   "outputs": [
    {
     "name": "stdout",
     "output_type": "stream",
     "text": [
      "[0.5 0.5]\n",
      "[0.9 0.9]\n",
      "[0.1 0.1]\n",
      "[0.1 0.1]\n",
      "[0.5 0.5]\n",
      "[0.9 0.9]\n",
      "[0.1 0.1]\n",
      "[0.9209687 0.9209687]\n",
      "[0.1 0.9]\n",
      "[0.9 0.1]\n"
     ]
    }
   ],
   "source": [
    "print(cec17[0].encode(np.array([0] * 50))[[0, -1]])\n",
    "print(cec17[1].encode(np.array([0] * 50))[[0, -1]])\n",
    "print(cec17[2].encode(np.array([0] * 50))[[0, -1]])\n",
    "print(cec17[3].encode(np.array([0] * 25))[[0, -1]])\n",
    "print(cec17[4].encode(np.array([1] * 50))[[0, -1]])\n",
    "print(cec17[5].encode(np.array([0] * 50))[[0, -1]])\n",
    "print(cec17[6].encode(np.array([0] * 50))[[0, -1]])\n",
    "print(cec17[7].encode(np.array([420.9687] * 50))[[0, -1]])\n",
    "print(cec17[8].encode(np.array([0] * 50))[[0, -1]])\n",
    "print(cec17[9].encode(np.array([0] * 50))[[0, -1]])"
   ]
  },
  {
   "cell_type": "code",
   "execution_count": 10,
   "metadata": {},
   "outputs": [
    {
     "data": {
      "text/plain": [
       "array([ 40,  40,  40,  40,  40,  40,  40,  40,  40,  40,  40,  40,  40,\n",
       "        40,  40,  40,  40,  40,  40,  40,  40,  40,  40,  40,  40, -40,\n",
       "       -40, -40, -40, -40, -40, -40, -40, -40, -40, -40, -40, -40, -40,\n",
       "       -40, -40, -40, -40, -40, -40, -40, -40, -40, -40, -40])"
      ]
     },
     "execution_count": 10,
     "metadata": {},
     "output_type": "execute_result"
    }
   ],
   "source": [
    "cec17[9].global_optimal"
   ]
  },
  {
   "cell_type": "markdown",
   "metadata": {},
   "source": [
    "shift\n",
    "\n",
    "encode: đầu vào là không gian chưa dịch chuyển\n",
    "R -shift-> R' -bound-> bounded_space -encode-> [0, 1] \n",
    "\n",
    "\n",
    "\n",
    "\n",
    "\n",
    "decode: đúng \n",
    "[0, 1] -decode-> bounded_space -unbound-> R' -inv_shift-> R"
   ]
  },
  {
   "cell_type": "markdown",
   "metadata": {},
   "source": [
    "### EA"
   ]
  },
  {
   "cell_type": "code",
   "execution_count": 11,
   "metadata": {},
   "outputs": [],
   "source": [
    "from MFEA_lib.EA import *\n"
   ]
  },
  {
   "cell_type": "markdown",
   "metadata": {},
   "source": [
    "#### Population"
   ]
  },
  {
   "cell_type": "code",
   "execution_count": null,
   "metadata": {},
   "outputs": [],
   "source": []
  },
  {
   "cell_type": "markdown",
   "metadata": {},
   "source": [
    "#### SubPop"
   ]
  },
  {
   "cell_type": "code",
   "execution_count": null,
   "metadata": {},
   "outputs": [],
   "source": []
  },
  {
   "cell_type": "markdown",
   "metadata": {},
   "source": [
    "#### Individual"
   ]
  },
  {
   "cell_type": "code",
   "execution_count": 12,
   "metadata": {},
   "outputs": [],
   "source": [
    "a = Individual(np.arange(10))\n",
    "a.skill_factor = 0\n",
    "a.fcost = 1"
   ]
  },
  {
   "cell_type": "code",
   "execution_count": 13,
   "metadata": {},
   "outputs": [],
   "source": [
    "b = Individual(np.arange(10, 20))\n",
    "b.skill_factor = 1\n",
    "b.fcost = 0.5"
   ]
  },
  {
   "cell_type": "code",
   "execution_count": 14,
   "metadata": {},
   "outputs": [],
   "source": [
    "c = Individual(np.arange(5, 15))\n",
    "c.skill_factor  = 0\n",
    "c.fcost = 0.1"
   ]
  },
  {
   "cell_type": "code",
   "execution_count": 15,
   "metadata": {},
   "outputs": [
    {
     "data": {
      "text/plain": [
       "Genes: [0 1 2 3 4 5 6 7 8 9]\n",
       "Skill_factor: 0"
      ]
     },
     "execution_count": 15,
     "metadata": {},
     "output_type": "execute_result"
    }
   ],
   "source": [
    "a"
   ]
  },
  {
   "cell_type": "code",
   "execution_count": 16,
   "metadata": {},
   "outputs": [
    {
     "data": {
      "text/plain": [
       "Genes: [10 11 12 13 14 15 16 17 18 19]\n",
       "Skill_factor: 1"
      ]
     },
     "execution_count": 16,
     "metadata": {},
     "output_type": "execute_result"
    }
   ],
   "source": [
    "b"
   ]
  },
  {
   "cell_type": "code",
   "execution_count": 17,
   "metadata": {},
   "outputs": [
    {
     "data": {
      "text/plain": [
       "Genes: [ 5  6  7  8  9 10 11 12 13 14]\n",
       "Skill_factor: 0"
      ]
     },
     "execution_count": 17,
     "metadata": {},
     "output_type": "execute_result"
    }
   ],
   "source": [
    "c"
   ]
  },
  {
   "cell_type": "code",
   "execution_count": 18,
   "metadata": {},
   "outputs": [
    {
     "data": {
      "text/plain": [
       "Genes: [10 12 14 16 18 20 22 24 26 28]\n",
       "Skill_factor: 0"
      ]
     },
     "execution_count": 18,
     "metadata": {},
     "output_type": "execute_result"
    }
   ],
   "source": [
    "a + b"
   ]
  },
  {
   "cell_type": "code",
   "execution_count": 19,
   "metadata": {},
   "outputs": [
    {
     "data": {
      "text/plain": [
       "Genes: [-10 -10 -10 -10 -10 -10 -10 -10 -10 -10]\n",
       "Skill_factor: 0"
      ]
     },
     "execution_count": 19,
     "metadata": {},
     "output_type": "execute_result"
    }
   ],
   "source": [
    "a - b"
   ]
  },
  {
   "cell_type": "code",
   "execution_count": 20,
   "metadata": {},
   "outputs": [
    {
     "data": {
      "text/plain": [
       "Genes: [  0  11  24  39  56  75  96 119 144 171]\n",
       "Skill_factor: 0"
      ]
     },
     "execution_count": 20,
     "metadata": {},
     "output_type": "execute_result"
    }
   ],
   "source": [
    "a * b"
   ]
  },
  {
   "cell_type": "code",
   "execution_count": 21,
   "metadata": {},
   "outputs": [
    {
     "data": {
      "text/plain": [
       "Genes: [0.         0.09090909 0.16666667 0.23076923 0.28571429 0.33333333\n",
       " 0.375      0.41176471 0.44444444 0.47368421]\n",
       "Skill_factor: 0"
      ]
     },
     "execution_count": 21,
     "metadata": {},
     "output_type": "execute_result"
    }
   ],
   "source": [
    "a / b"
   ]
  },
  {
   "cell_type": "code",
   "execution_count": 22,
   "metadata": {},
   "outputs": [
    {
     "data": {
      "text/plain": [
       "Genes: [0 0 0 0 0 0 0 0 0 0]\n",
       "Skill_factor: 0"
      ]
     },
     "execution_count": 22,
     "metadata": {},
     "output_type": "execute_result"
    }
   ],
   "source": [
    "a // b"
   ]
  },
  {
   "cell_type": "code",
   "execution_count": 23,
   "metadata": {},
   "outputs": [
    {
     "data": {
      "text/plain": [
       "Genes: [0 1 2 3 4 5 6 7 8 9]\n",
       "Skill_factor: 0"
      ]
     },
     "execution_count": 23,
     "metadata": {},
     "output_type": "execute_result"
    }
   ],
   "source": [
    "a % b"
   ]
  },
  {
   "cell_type": "code",
   "execution_count": 24,
   "metadata": {},
   "outputs": [
    {
     "data": {
      "text/plain": [
       "Genes: [                  0                   1                4096\n",
       "             1594323           268435456         30517578125\n",
       "       2821109907456     232630513987207   18014398509481984\n",
       " 1350851717672992089]\n",
       "Skill_factor: 0"
      ]
     },
     "execution_count": 24,
     "metadata": {},
     "output_type": "execute_result"
    }
   ],
   "source": [
    "a ** b"
   ]
  },
  {
   "cell_type": "code",
   "execution_count": 25,
   "metadata": {},
   "outputs": [
    {
     "data": {
      "text/plain": [
       "False"
      ]
     },
     "execution_count": 25,
     "metadata": {},
     "output_type": "execute_result"
    }
   ],
   "source": [
    "a < b"
   ]
  },
  {
   "cell_type": "code",
   "execution_count": 26,
   "metadata": {},
   "outputs": [
    {
     "data": {
      "text/plain": [
       "True"
      ]
     },
     "execution_count": 26,
     "metadata": {},
     "output_type": "execute_result"
    }
   ],
   "source": [
    "a < c"
   ]
  }
 ],
 "metadata": {
  "interpreter": {
   "hash": "f9f85f796d01129d0dd105a088854619f454435301f6ffec2fea96ecbd9be4ac"
  },
  "kernelspec": {
   "display_name": "Python 3.9.5 64-bit",
   "language": "python",
   "name": "python3"
  },
  "language_info": {
   "codemirror_mode": {
    "name": "ipython",
    "version": 3
   },
   "file_extension": ".py",
   "mimetype": "text/x-python",
   "name": "python",
   "nbconvert_exporter": "python",
   "pygments_lexer": "ipython3",
   "version": "3.9.5"
  },
  "orig_nbformat": 4
 },
 "nbformat": 4,
 "nbformat_minor": 2
}
